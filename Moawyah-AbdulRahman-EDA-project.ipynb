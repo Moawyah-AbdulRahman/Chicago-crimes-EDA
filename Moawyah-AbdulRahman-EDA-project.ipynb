{
 "cells": [
  {
   "cell_type": "markdown",
   "id": "e011c1cd-4311-4864-83e0-d0a8614c84f4",
   "metadata": {},
   "source": [
    "#### Questions I would like to answer\n",
    "- At what time(s) of the year are crimes more likely to occur?\n",
    "- What kind of crimes are prevalent? \n",
    "- Which kind of people are more likely to be criminal? What are the attributes that indicate a criminal person?"
   ]
  },
  {
   "cell_type": "code",
   "execution_count": null,
   "id": "65caa48c-af75-49a7-9fbf-8fcbc37390fc",
   "metadata": {},
   "outputs": [],
   "source": [
    "import pandas as pd"
   ]
  },
  {
   "cell_type": "code",
   "execution_count": null,
   "id": "0faabca0-9d01-4a7d-b69a-b3c5859e7c79",
   "metadata": {},
   "outputs": [],
   "source": [
    "df = pd.read_csv('Crimes_-_2001_to_Present.csv')"
   ]
  },
  {
   "cell_type": "code",
   "execution_count": null,
   "id": "a2af124f-7959-41d5-b022-dc74a5cc244b",
   "metadata": {
    "tags": []
   },
   "outputs": [],
   "source": [
    "df.head()"
   ]
  },
  {
   "cell_type": "code",
   "execution_count": null,
   "id": "346d8a86-2c20-4294-a5f8-f9ad398886cc",
   "metadata": {
    "tags": []
   },
   "outputs": [],
   "source": [
    "df.info()"
   ]
  },
  {
   "cell_type": "code",
   "execution_count": null,
   "id": "77206d07-9ab4-4462-92b8-65d32075c30b",
   "metadata": {
    "tags": []
   },
   "outputs": [],
   "source": [
    "df.describe()"
   ]
  },
  {
   "cell_type": "code",
   "execution_count": null,
   "id": "3b6771d2-0be8-4766-b7a6-b0394b6847b0",
   "metadata": {},
   "outputs": [],
   "source": [
    "df.shape"
   ]
  },
  {
   "cell_type": "code",
   "execution_count": null,
   "id": "9bf84027-9e43-4ea1-8ea0-50ded746de51",
   "metadata": {
    "tags": []
   },
   "outputs": [],
   "source": [
    "df.shape[0] - df.count() # show number of null values "
   ]
  },
  {
   "cell_type": "code",
   "execution_count": null,
   "id": "d93d68b7-d290-44da-bd53-f17ec472f72c",
   "metadata": {},
   "outputs": [],
   "source": [
    "districts = df['District'].unique()\n",
    "districts"
   ]
  },
  {
   "cell_type": "code",
   "execution_count": null,
   "id": "87cc90cc-81df-4ac5-bb72-651e22228bca",
   "metadata": {},
   "outputs": [],
   "source": [
    "len(districts)"
   ]
  },
  {
   "cell_type": "markdown",
   "id": "2c575257-9ffd-471e-8e6c-d2e297e0c0e8",
   "metadata": {},
   "source": [
    "there are 24 districts. i will invistigate further on these disctrics"
   ]
  },
  {
   "cell_type": "code",
   "execution_count": null,
   "id": "ed39abe1-e939-464d-b1eb-1f58ec6dd6f8",
   "metadata": {
    "tags": []
   },
   "outputs": [],
   "source": [
    "no_crimes_district = df.dropna(subset=['District']).groupby('District').count()\n",
    "no_crimes_district"
   ]
  },
  {
   "cell_type": "markdown",
   "id": "dae27275-a8ac-4c6a-b4c7-f88eaac3aa50",
   "metadata": {
    "tags": []
   },
   "source": [
    "There is something wrong with districts 21.0 and 31.0. \n",
    "The number of crimes in these districs can't be real (too small)"
   ]
  },
  {
   "cell_type": "code",
   "execution_count": null,
   "id": "0faba905-4bdf-436c-8497-4994c231d421",
   "metadata": {
    "tags": []
   },
   "outputs": [],
   "source": [
    "no_crimes_district = no_crimes_district.drop([21.0, 31.0])['ID'].sort_values()\n",
    "no_crimes_district"
   ]
  },
  {
   "cell_type": "code",
   "execution_count": null,
   "id": "7c971307-fcef-4de7-94c3-59d3720b806b",
   "metadata": {},
   "outputs": [],
   "source": [
    "no_crimes_district.index = no_crimes_district.index.map(str)"
   ]
  },
  {
   "cell_type": "code",
   "execution_count": null,
   "id": "d434b9ee-4f9e-477f-8645-be004be891c6",
   "metadata": {},
   "outputs": [],
   "source": [
    "import plotly.graph_objects as go\n",
    "bar_trace = go.Bar(x=no_crimes_district.index, y=no_crimes_district)\n",
    "title_layout = go.Layout(title='Number of crimes per district')\n",
    "figure = go.Figure(data=[bar_trace], layout=title_layout)\n",
    "figure.show()"
   ]
  },
  {
   "cell_type": "markdown",
   "id": "48f4f8e1-3196-4933-9fef-e6c0384a1c0b",
   "metadata": {},
   "source": [
    "We can see the number of crimes per district, but this might not be representative as districts vary in terms of population and area."
   ]
  },
  {
   "cell_type": "code",
   "execution_count": null,
   "id": "5021fb4f-789c-4a41-b2d6-96cb80720459",
   "metadata": {},
   "outputs": [],
   "source": [
    "crimes_positions = df[['ID', 'X Coordinate', 'Y Coordinate']].dropna(subset=['X Coordinate', 'Y Coordinate']).reset_index(drop=True)\n",
    "crimes_positions"
   ]
  },
  {
   "cell_type": "code",
   "execution_count": null,
   "id": "4917096b-6a5c-4f24-97bd-2c16c748619b",
   "metadata": {},
   "outputs": [],
   "source": [
    "x_range = (crimes_positions['X Coordinate'].min(), crimes_positions['X Coordinate'].max())\n",
    "y_range = (crimes_positions['Y Coordinate'].min(), crimes_positions['Y Coordinate'].max())"
   ]
  },
  {
   "cell_type": "code",
   "execution_count": null,
   "id": "386ae2a3-6e2f-46eb-bdf3-5dd471dafbfb",
   "metadata": {},
   "outputs": [],
   "source": [
    "x_range"
   ]
  },
  {
   "cell_type": "code",
   "execution_count": null,
   "id": "176e1efb-13fd-4a10-9fbd-03d47a0039f4",
   "metadata": {},
   "outputs": [],
   "source": [
    "y_range"
   ]
  },
  {
   "cell_type": "code",
   "execution_count": null,
   "id": "c38628e1-93ba-4b57-8657-4439f1f4ca84",
   "metadata": {},
   "outputs": [],
   "source": [
    "import matplotlib.pyplot as plt\n",
    "plt.scatter(x=crimes_positions['X Coordinate'], y=crimes_positions['Y Coordinate'])\n",
    "plt.show()\n"
   ]
  },
  {
   "cell_type": "markdown",
   "id": "4c464912-0148-4d87-b719-6f6e2098d5e8",
   "metadata": {},
   "source": [
    "Points that are at (0,0) have wrong data. i will remove them and check again to find a pattern on places that have high rates of crimes"
   ]
  },
  {
   "cell_type": "code",
   "execution_count": null,
   "id": "9611e9d9-38ae-432e-b891-e97195c01dd7",
   "metadata": {},
   "outputs": [],
   "source": [
    "crimes_positions = crimes_positions[crimes_positions['X Coordinate'] != 0].reset_index(drop=True)\n",
    "crimes_positions.shape"
   ]
  },
  {
   "cell_type": "code",
   "execution_count": null,
   "id": "82591754-c2db-4e5f-b2a6-f9776e46f87d",
   "metadata": {},
   "outputs": [],
   "source": [
    "plt.scatter(x=crimes_positions['X Coordinate'], y=crimes_positions['Y Coordinate'], alpha=0.0059, s=0.05)\n",
    "plt.show()"
   ]
  },
  {
   "cell_type": "code",
   "execution_count": null,
   "id": "c0413bad-0829-42b1-a901-c14a80815d96",
   "metadata": {},
   "outputs": [],
   "source": [
    "x_range = (crimes_positions['X Coordinate'].min(), crimes_positions['X Coordinate'].max())\n",
    "y_range = (crimes_positions['Y Coordinate'].min(), crimes_positions['Y Coordinate'].max())"
   ]
  },
  {
   "cell_type": "code",
   "execution_count": null,
   "id": "440d6ea8-b8a8-47cc-9e35-87f43ebe8fe7",
   "metadata": {},
   "outputs": [],
   "source": [
    "from PIL import Image\n",
    "background_image = Image.open('chicago-districts.jpg')\n",
    "plt.scatter(x=crimes_positions['X Coordinate'], y=crimes_positions['Y Coordinate'], alpha=0.0059, s=0.05)\n",
    "\n",
    "plt.imshow(background_image, extent=[x_range[0], x_range[1], y_range[0], y_range[1]], aspect='auto')\n",
    "\n",
    "plt.xlim(x_range[0], x_range[1])\n",
    "plt.ylim(y_range[0], y_range[1])\n",
    "\n",
    "plt.show()"
   ]
  },
  {
   "cell_type": "markdown",
   "id": "469345b8-9e5e-4990-809b-f61b2fe92bd5",
   "metadata": {},
   "source": [
    "We can see places that relatively safer in the diagram. \n",
    "Notice that crimes near district borders are way less.\n",
    "The 2 districts at the southern east and at northern west are the safest."
   ]
  },
  {
   "cell_type": "code",
   "execution_count": null,
   "id": "16bc90c2-f820-467e-8c88-b9a17f4d07cd",
   "metadata": {
    "tags": []
   },
   "outputs": [],
   "source": [
    "crime_type_count = df[['ID', 'Primary Type']].groupby('Primary Type')['ID'].count().sort_values(ascending=False)\n",
    "crime_type_count"
   ]
  },
  {
   "cell_type": "code",
   "execution_count": null,
   "id": "885de692-9db7-4c9f-a7fd-36836d062f8d",
   "metadata": {},
   "outputs": [],
   "source": [
    "crime_type_count_bar = go.Bar(x=crime_type_count[:10].index, y=crime_type_count[:10].values)\n",
    "crime_type_count_layout = go.Layout(title='Number of Crimes Per Type', xaxis=dict(title='Crime Type'))\n",
    "go.Figure(data=[crime_type_count_bar], layout=crime_type_count_layout).show()"
   ]
  },
  {
   "cell_type": "code",
   "execution_count": null,
   "id": "732995fd-cc53-4c4c-981d-b6a647283dc4",
   "metadata": {},
   "outputs": [],
   "source": [
    "crime_type_count[:2].sum()/df.count()['ID']"
   ]
  },
  {
   "cell_type": "code",
   "execution_count": null,
   "id": "4cca04b0-5a6f-4796-9a7b-f2a6dcf78c36",
   "metadata": {},
   "outputs": [],
   "source": [
    "print(f'Number of crime types: {len(crime_type_count)-2}') # NON-CRIMINAL type is mentioned 3 times"
   ]
  },
  {
   "cell_type": "markdown",
   "id": "a4a5331e-a33a-44d6-9721-7640e61b9070",
   "metadata": {},
   "source": [
    "Theft & Battery are extremly frequent. They make up 40% of 32 type of crime. if you take a deeper look you find out that there are other types of theft that are kept on their classes."
   ]
  },
  {
   "cell_type": "code",
   "execution_count": null,
   "id": "5a3bb994-6420-48da-94bb-cb040bab2aca",
   "metadata": {},
   "outputs": [],
   "source": [
    "fig, axes = plt.subplots(nrows=4, ncols=1, figsize=(6,24))\n",
    "iter_no=0\n",
    "\n",
    "for crime_type, _ in crime_type_count[:4].items():\n",
    "    crime_type_positions = df[df['Primary Type'] == crime_type][['ID', 'X Coordinate', 'Y Coordinate']].dropna(subset=['X Coordinate', 'Y Coordinate']).reset_index(drop=True)\n",
    "    axes[iter_no].scatter(x=crime_type_positions['X Coordinate'], \n",
    "                          y=crime_type_positions['Y Coordinate'], \n",
    "                          alpha=0.0059, s=0.05)\n",
    "    axes[iter_no].imshow(background_image, extent=[x_range[0], x_range[1], y_range[0], y_range[1]], aspect='auto')\n",
    "    axes[iter_no].set_title(f'Distribution of {crime_type.title()}')\n",
    "    iter_no += 1\n",
    "\n",
    "\n",
    "plt.tight_layout()\n",
    "plt.show()"
   ]
  },
  {
   "cell_type": "markdown",
   "id": "da88b0f0-1154-4865-92cd-85529e5948cc",
   "metadata": {
    "tags": []
   },
   "source": [
    "We can see the spread of each crime type. Based on this we can prepare stations.\n",
    "for example theft is spread the most on the east border."
   ]
  },
  {
   "cell_type": "code",
   "execution_count": null,
   "id": "a2cf13c8-90f4-493a-a1eb-c8d7fcd4c312",
   "metadata": {},
   "outputs": [],
   "source": [
    "crimes_year_trace = go.Histogram(x=df['Year'])\n",
    "go.Figure(data=[crimes_year_trace], layout=go.Layout(title='Crimes Per Year')).show()"
   ]
  },
  {
   "cell_type": "markdown",
   "id": "ccb35c11-96a0-42c6-9104-7cceb4448db5",
   "metadata": {},
   "source": [
    "Between 2019 and 2020 the number of crimes droped by 50k. From 2020 to 2021 the number of crimes didn't change. Between 2021 to 2022 it increased by 30k bringing it back closer to the normal rate from 2014 to 2019. \n",
    "So, I would expect that the drop in 2020 was due to COVID-19 quarantine, and the increas the number of crimes in 2022 is due to the quarantine removal. Thus I expect then number of crimes to increase  slightly in the upcomming years."
   ]
  },
  {
   "cell_type": "code",
   "execution_count": null,
   "id": "636f4f19-3cd4-4393-a61e-d3b109b889b8",
   "metadata": {},
   "outputs": [],
   "source": [
    "from datetime import datetime\n",
    "crimes_month_trace = go.Histogram(x=df.sample(1_000_000)['Date'].apply(lambda d: datetime.strptime(d, '%m/%d/%Y %I:%M:%S %p')))\n",
    "go.Figure(data=[crimes_month_trace], layout=go.Layout(title=f'Crimes Per Month')).show()"
   ]
  },
  {
   "cell_type": "markdown",
   "id": "c7754a88-38db-4d04-93c3-1338819af137",
   "metadata": {},
   "source": [
    "It's appearent from the diagram that crimes occur more on the summer months of each year (May-Sept). The occur less on winter months (Nov-Mar)"
   ]
  }
 ],
 "metadata": {
  "kernelspec": {
   "display_name": "Python 3 (ipykernel)",
   "language": "python",
   "name": "python3"
  },
  "language_info": {
   "codemirror_mode": {
    "name": "ipython",
    "version": 3
   },
   "file_extension": ".py",
   "mimetype": "text/x-python",
   "name": "python",
   "nbconvert_exporter": "python",
   "pygments_lexer": "ipython3",
   "version": "3.10.9"
  }
 },
 "nbformat": 4,
 "nbformat_minor": 5
}
